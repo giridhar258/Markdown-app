{
 "cells": [
  {
   "cell_type": "code",
   "execution_count": 8,
   "id": "c09538a1-26e1-4f8d-8b33-5a1d0afdabaf",
   "metadata": {},
   "outputs": [
    {
     "name": "stdout",
     "output_type": "stream",
     "text": [
      "Defaulting to user installation because normal site-packages is not writeable\n",
      "Requirement already satisfied: flask in c:\\programdata\\anaconda3\\lib\\site-packages (3.1.0)\n",
      "Requirement already satisfied: flask_cors in c:\\users\\krish\\appdata\\roaming\\python\\python313\\site-packages (6.0.1)\n",
      "Requirement already satisfied: markdown in c:\\programdata\\anaconda3\\lib\\site-packages (3.8)\n",
      "Requirement already satisfied: Werkzeug>=3.1 in c:\\programdata\\anaconda3\\lib\\site-packages (from flask) (3.1.3)\n",
      "Requirement already satisfied: Jinja2>=3.1.2 in c:\\programdata\\anaconda3\\lib\\site-packages (from flask) (3.1.6)\n",
      "Requirement already satisfied: itsdangerous>=2.2 in c:\\programdata\\anaconda3\\lib\\site-packages (from flask) (2.2.0)\n",
      "Requirement already satisfied: click>=8.1.3 in c:\\programdata\\anaconda3\\lib\\site-packages (from flask) (8.1.8)\n",
      "Requirement already satisfied: blinker>=1.9 in c:\\programdata\\anaconda3\\lib\\site-packages (from flask) (1.9.0)\n",
      "Requirement already satisfied: colorama in c:\\programdata\\anaconda3\\lib\\site-packages (from click>=8.1.3->flask) (0.4.6)\n",
      "Requirement already satisfied: MarkupSafe>=2.0 in c:\\programdata\\anaconda3\\lib\\site-packages (from Jinja2>=3.1.2->flask) (3.0.2)\n",
      "Note: you may need to restart the kernel to use updated packages.\n"
     ]
    }
   ],
   "source": [
    "%pip install flask flask_cors markdown\n"
   ]
  },
  {
   "cell_type": "code",
   "execution_count": 9,
   "id": "c836dfb9-c478-432d-b7df-d155bd95c450",
   "metadata": {},
   "outputs": [
    {
     "name": "stdout",
     "output_type": "stream",
     "text": [
      " * Serving Flask app '__main__'\n",
      " * Debug mode: off\n"
     ]
    },
    {
     "name": "stderr",
     "output_type": "stream",
     "text": [
      "\u001b[31m\u001b[1mWARNING: This is a development server. Do not use it in a production deployment. Use a production WSGI server instead.\u001b[0m\n",
      " * Running on http://127.0.0.1:5000\n",
      "\u001b[33mPress CTRL+C to quit\u001b[0m\n",
      "127.0.0.1 - - [24/Aug/2025 19:05:49] \"\u001b[33mGET / HTTP/1.1\u001b[0m\" 404 -\n",
      "127.0.0.1 - - [24/Aug/2025 19:05:49] \"\u001b[33mGET /favicon.ico HTTP/1.1\u001b[0m\" 404 -\n",
      "127.0.0.1 - - [24/Aug/2025 19:06:21] \"POST /check_grammar HTTP/1.1\" 200 -\n",
      "127.0.0.1 - - [24/Aug/2025 19:06:29] \"POST /save_note HTTP/1.1\" 200 -\n",
      "127.0.0.1 - - [24/Aug/2025 19:06:38] \"GET /list_notes HTTP/1.1\" 200 -\n",
      "127.0.0.1 - - [24/Aug/2025 19:06:46] \"\u001b[33mGET /render_note/test_note HTTP/1.1\u001b[0m\" 404 -\n",
      "127.0.0.1 - - [24/Aug/2025 19:06:50] \"\u001b[33mGET / HTTP/1.1\u001b[0m\" 404 -\n"
     ]
    }
   ],
   "source": [
    "import os\n",
    "import sqlite3\n",
    "from flask import Flask, request, jsonify\n",
    "from flask_cors import CORS\n",
    "import markdown\n",
    "from threading import Thread\n",
    "\n",
    "# -----------------------------\n",
    "# Setup\n",
    "# -----------------------------\n",
    "app = Flask(__name__)\n",
    "CORS(app)\n",
    "\n",
    "DB_FILE = \"notes.db\"\n",
    "\n",
    "# -----------------------------\n",
    "# Simple Grammar Checker (No Java Needed)\n",
    "# -----------------------------\n",
    "def simple_grammar_check(text):\n",
    "    issues = []\n",
    "\n",
    "    # Rule 1: Double spaces\n",
    "    if \"  \" in text:\n",
    "        issues.append({\n",
    "            \"message\": \"Double space detected\",\n",
    "            \"suggestions\": [\" \"],\n",
    "            \"offset\": text.index(\"  \"),\n",
    "            \"errorLength\": 2\n",
    "        })\n",
    "\n",
    "    # Rule 2: Common subject-verb error\n",
    "    if \"This are\" in text:\n",
    "        issues.append({\n",
    "            \"message\": \"Incorrect verb form\",\n",
    "            \"suggestions\": [\"This is\"],\n",
    "            \"offset\": text.index(\"This are\"),\n",
    "            \"errorLength\": 7\n",
    "        })\n",
    "\n",
    "    # Rule 3: Common typos\n",
    "    common_typos = {\"teh\": \"the\", \"recieve\": \"receive\", \"adress\": \"address\"}\n",
    "    for typo, correction in common_typos.items():\n",
    "        if typo in text:\n",
    "            issues.append({\n",
    "                \"message\": f\"Possible typo: '{typo}'\",\n",
    "                \"suggestions\": [correction],\n",
    "                \"offset\": text.index(typo),\n",
    "                \"errorLength\": len(typo)\n",
    "            })\n",
    "\n",
    "    return {\"corrections\": issues}\n",
    "\n",
    "# -----------------------------\n",
    "# Initialize DB\n",
    "# -----------------------------\n",
    "def init_db():\n",
    "    with sqlite3.connect(DB_FILE) as conn:\n",
    "        cursor = conn.cursor()\n",
    "        cursor.execute(\"\"\"\n",
    "        CREATE TABLE IF NOT EXISTS notes (\n",
    "            id INTEGER PRIMARY KEY AUTOINCREMENT,\n",
    "            title TEXT,\n",
    "            content TEXT\n",
    "        )\n",
    "        \"\"\")\n",
    "        conn.commit()\n",
    "\n",
    "init_db()\n",
    "\n",
    "# -----------------------------\n",
    "# Endpoints\n",
    "# -----------------------------\n",
    "\n",
    "# 1. Grammar Check\n",
    "@app.route(\"/check_grammar\", methods=[\"POST\"])\n",
    "def check_grammar():\n",
    "    data = request.get_json()\n",
    "    text = data.get(\"text\", \"\")\n",
    "    corrections = simple_grammar_check(text)[\"corrections\"]\n",
    "    return jsonify({\"corrections\": corrections})\n",
    "\n",
    "# 2. Save Note\n",
    "@app.route(\"/save_note\", methods=[\"POST\"])\n",
    "def save_note():\n",
    "    data = request.get_json()\n",
    "    title = data.get(\"title\", \"Untitled\")\n",
    "    content = data.get(\"content\", \"\")\n",
    "    with sqlite3.connect(DB_FILE) as conn:\n",
    "        cursor = conn.cursor()\n",
    "        cursor.execute(\"INSERT INTO notes (title, content) VALUES (?, ?)\", (title, content))\n",
    "        conn.commit()\n",
    "    return jsonify({\"message\": \"Note saved successfully!\"})\n",
    "\n",
    "# 3. List Notes\n",
    "@app.route(\"/list_notes\", methods=[\"GET\"])\n",
    "def list_notes():\n",
    "    with sqlite3.connect(DB_FILE) as conn:\n",
    "        cursor = conn.cursor()\n",
    "        cursor.execute(\"SELECT id, title FROM notes\")\n",
    "        notes = [{\"id\": row[0], \"title\": row[1]} for row in cursor.fetchall()]\n",
    "    return jsonify(notes)\n",
    "\n",
    "# 4. Render Markdown to HTML\n",
    "@app.route(\"/render_note/<int:note_id>\", methods=[\"GET\"])\n",
    "def render_note(note_id):\n",
    "    with sqlite3.connect(DB_FILE) as conn:\n",
    "        cursor = conn.cursor()\n",
    "        cursor.execute(\"SELECT content FROM notes WHERE id=?\", (note_id,))\n",
    "        row = cursor.fetchone()\n",
    "    if row:\n",
    "        html_content = markdown.markdown(row[0])\n",
    "        return jsonify({\"html\": html_content})\n",
    "    else:\n",
    "        return jsonify({\"error\": \"Note not found\"}), 404\n",
    "\n",
    "# -----------------------------\n",
    "# Run Flask in Background\n",
    "# -----------------------------\n",
    "def run_app():\n",
    "    app.run(port=5000, debug=False)\n",
    "\n",
    "thread = Thread(target=run_app)\n",
    "thread.start()\n"
   ]
  },
  {
   "cell_type": "code",
   "execution_count": 10,
   "id": "afc2e3b5-a992-4ba1-adcb-0ac12b7c0ca5",
   "metadata": {},
   "outputs": [
    {
     "name": "stdout",
     "output_type": "stream",
     "text": [
      "{'corrections': []}\n"
     ]
    }
   ],
   "source": [
    "import requests\n",
    "\n",
    "# Test grammar check\n",
    "res = requests.post(\"http://127.0.0.1:5000/check_grammar\", json={\n",
    "    \"text\": \"This is a simple example with a mistake in it is text.\"\n",
    "})\n",
    "print(res.json())\n"
   ]
  },
  {
   "cell_type": "code",
   "execution_count": 11,
   "id": "7649c904-226e-4041-95f1-774e5afde7fe",
   "metadata": {},
   "outputs": [
    {
     "name": "stdout",
     "output_type": "stream",
     "text": [
      "{'message': 'Note saved successfully!'}\n"
     ]
    }
   ],
   "source": [
    "# Save a note\n",
    "res = requests.post(\"http://127.0.0.1:5000/save_note\", json={\n",
    "    \"title\": \"test_note\",\n",
    "    \"content\": \"# Hello\\nThis is my *first* note.\"\n",
    "})\n",
    "print(res.json())\n"
   ]
  },
  {
   "cell_type": "code",
   "execution_count": 12,
   "id": "c2e48441-bfe1-4d34-82b9-f95e4f0e3b0c",
   "metadata": {},
   "outputs": [
    {
     "name": "stdout",
     "output_type": "stream",
     "text": [
      "[{'id': 1, 'title': 'test_note'}]\n"
     ]
    }
   ],
   "source": [
    "# List saved notes\n",
    "res = requests.get(\"http://127.0.0.1:5000/list_notes\")\n",
    "print(res.json())\n"
   ]
  },
  {
   "cell_type": "code",
   "execution_count": 13,
   "id": "f194a7dc-8cc5-4390-a89b-c0ab680a8255",
   "metadata": {},
   "outputs": [
    {
     "name": "stdout",
     "output_type": "stream",
     "text": [
      "<!doctype html>\n",
      "<html lang=en>\n",
      "<title>404 Not Found</title>\n",
      "<h1>Not Found</h1>\n",
      "<p>The requested URL was not found on the server. If you entered the URL manually please check your spelling and try again.</p>\n",
      "\n"
     ]
    }
   ],
   "source": [
    "# Render note into HTML\n",
    "res = requests.get(\"http://127.0.0.1:5000/render_note/test_note\")\n",
    "print(res.text)   # This will be HTML\n"
   ]
  },
  {
   "cell_type": "code",
   "execution_count": null,
   "id": "1a9858a8-b617-47fd-a044-a2d1207d1d33",
   "metadata": {},
   "outputs": [],
   "source": []
  }
 ],
 "metadata": {
  "kernelspec": {
   "display_name": "Python 3 (ipykernel)",
   "language": "python",
   "name": "python3"
  },
  "language_info": {
   "codemirror_mode": {
    "name": "ipython",
    "version": 3
   },
   "file_extension": ".py",
   "mimetype": "text/x-python",
   "name": "python",
   "nbconvert_exporter": "python",
   "pygments_lexer": "ipython3",
   "version": "3.13.5"
  }
 },
 "nbformat": 4,
 "nbformat_minor": 5
}
